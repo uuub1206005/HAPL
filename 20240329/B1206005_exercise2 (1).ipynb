{
  "nbformat": 4,
  "nbformat_minor": 0,
  "metadata": {
    "colab": {
      "provenance": []
    },
    "kernelspec": {
      "name": "python3",
      "display_name": "Python 3"
    },
    "language_info": {
      "name": "python"
    }
  },
  "cells": [
    {
      "cell_type": "code",
      "execution_count": 12,
      "metadata": {
        "colab": {
          "base_uri": "https://localhost:8080/"
        },
        "id": "850wwDRidxXs",
        "outputId": "fbe7ab2f-51c5-43b0-bf0a-54914dc2424c"
      },
      "outputs": [
        {
          "output_type": "stream",
          "name": "stdout",
          "text": [
            "{'姓名': '賴宏瑋', '性別': '男', '作業分數': [100, 100, 90], '學號': 'M1129020'}\n",
            "96.66666666666667\n"
          ]
        }
      ],
      "source": [
        "a={'姓名':'賴宏瑋','性別':'男','作業分數':[80,95,100,90]}\n",
        "a['作業分數'][1]=100\n",
        "a['學號']='M1129020'\n",
        "del a['作業分數'][0]\n",
        "print(a)\n",
        "b=a.get('作業分數')\n",
        "print(sum(b) / len(b))"
      ]
    }
  ]
}