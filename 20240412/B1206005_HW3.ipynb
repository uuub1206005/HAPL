{
  "nbformat": 4,
  "nbformat_minor": 0,
  "metadata": {
    "colab": {
      "provenance": []
    },
    "kernelspec": {
      "name": "python3",
      "display_name": "Python 3"
    },
    "language_info": {
      "name": "python"
    }
  },
  "cells": [
    {
      "cell_type": "code",
      "source": [
        "a = float(input(\"西元年分：\"))\n",
        "\n",
        "if a==1582 or a<1582:\n",
        "  a%=4\n",
        "  if a==0:\n",
        "   print(\"閏年\")\n",
        "  else:\n",
        "   print(\"平年\")\n",
        "\n",
        "if a>1582:\n",
        "\n",
        "  x=a%4\n",
        "  y=a%100\n",
        "  z=a%400\n",
        "\n",
        "  if x==0 and (y!=0 or z==0):\n",
        "   print(\"閏年\")\n",
        "  else:\n",
        "   print(\"平年\")"
      ],
      "metadata": {
        "id": "oad4DBCkVEJz",
        "colab": {
          "base_uri": "https://localhost:8080/"
        },
        "outputId": "d45135e1-8b3f-4060-c846-b8864fea87b0"
      },
      "execution_count": null,
      "outputs": [
        {
          "output_type": "stream",
          "name": "stdout",
          "text": [
            "西元年分：2600\n",
            "平年\n"
          ]
        }
      ]
    }
  ]
}