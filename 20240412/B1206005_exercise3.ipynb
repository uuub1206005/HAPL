{
  "nbformat": 4,
  "nbformat_minor": 0,
  "metadata": {
    "colab": {
      "provenance": []
    },
    "kernelspec": {
      "name": "python3",
      "display_name": "Python 3"
    },
    "language_info": {
      "name": "python"
    }
  },
  "cells": [
    {
      "cell_type": "code",
      "execution_count": null,
      "metadata": {
        "id": "tpp_5L3czxX2"
      },
      "outputs": [],
      "source": [
        "w = float(input(\"體重(公斤)=\"))\n",
        "h = float(input(\"身高(公分)=\"))\n",
        "\n",
        "w/=(h/100)**2\n",
        "print(\"BMI;\",w)\n",
        "\n",
        "a=18.5\n",
        "b=24\n",
        "c=27\n",
        "\n",
        "if  w<a:\n",
        "  print(\"體位:過輕\")\n",
        "elif w==a or a<w<b:\n",
        "  print(\"體位:適中\")\n",
        "elif w==b or b<w<c:\n",
        "  print(\"體位:過重\")\n",
        "if  w==27 or w>c:\n",
        "  print(\"體位:肥胖\")"
      ]
    },
    {
      "cell_type": "code",
      "source": [
        "a = float(input(\"請輸入第一個數字:\"))\n",
        "b = (input(\"請輸入運算符號:\"))\n",
        "c = float(input(\"請輸入第二個數字:\"))\n",
        "\n",
        "if  b==\"+\":\n",
        "  print(a+c)\n",
        "elif b==\"-\":\n",
        "  print(a-c)\n",
        "elif b==\"*\":\n",
        "  print(a*c)\n",
        "if  b==\"/\":\n",
        "  print(a/c)"
      ],
      "metadata": {
        "id": "tzcCD5RV3fqr"
      },
      "execution_count": null,
      "outputs": []
    },
    {
      "cell_type": "code",
      "source": [],
      "metadata": {
        "id": "pLPbuvYf0i8u"
      },
      "execution_count": null,
      "outputs": []
    }
  ]
}