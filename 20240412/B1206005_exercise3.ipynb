{
  "nbformat": 4,
  "nbformat_minor": 0,
  "metadata": {
    "colab": {
      "provenance": []
    },
    "kernelspec": {
      "name": "python3",
      "display_name": "Python 3"
    },
    "language_info": {
      "name": "python"
    }
  },
  "cells": [
    {
      "cell_type": "code",
      "execution_count": null,
      "metadata": {
        "colab": {
          "base_uri": "https://localhost:8080/"
        },
        "id": "tpp_5L3czxX2",
        "outputId": "8ecc2120-cc99-483a-e924-bbcb3cb0997e"
      },
      "outputs": [
        {
          "output_type": "stream",
          "name": "stdout",
          "text": [
            "體重(公斤)=50\n",
            "身高(公分)=160\n",
            "BMI; 19.531249999999996\n",
            "體位:適中\n"
          ]
        }
      ],
      "source": [
        "w = float(input(\"體重(公斤)=\"))\n",
        "h = float(input(\"身高(公分)=\"))\n",
        "\n",
        "w/=(h/100)**2\n",
        "print(\"BMI;\",w)\n",
        "\n",
        "a=18.5\n",
        "b=24\n",
        "c=27\n",
        "\n",
        "if  w<a:\n",
        "  print(\"體位:過輕\")\n",
        "elif w==a or a<w<b:\n",
        "  print(\"體位:適中\")\n",
        "elif w==b or b<w<c:\n",
        "  print(\"體位:過重\")\n",
        "if  w==27 or w>c:\n",
        "  print(\"體位:肥胖\")"
      ]
    },
    {
      "cell_type": "code",
      "source": [
        "a = float(input(\"請輸入第一個數字:\"))\n",
        "b = (input(\"請輸入運算符號:\"))\n",
        "c = float(input(\"請輸入第二個數字:\"))\n",
        "\n",
        "if  b==\"+\":\n",
        "  print(a+c)\n",
        "elif b==\"-\":\n",
        "  print(a-c)\n",
        "elif b==\"*\":\n",
        "  print(a*c)\n",
        "if  b==\"/\":\n",
        "  print(a/c)"
      ],
      "metadata": {
        "colab": {
          "base_uri": "https://localhost:8080/"
        },
        "id": "tzcCD5RV3fqr",
        "outputId": "942571e6-6261-42ec-e2d9-f89c343f19dc"
      },
      "execution_count": null,
      "outputs": [
        {
          "output_type": "stream",
          "name": "stdout",
          "text": [
            "請輸入第一個數字:4\n",
            "請輸入運算符號:*\n",
            "請輸入第二個數字:2\n",
            "8.0\n"
          ]
        }
      ]
    },
    {
      "cell_type": "code",
      "source": [],
      "metadata": {
        "id": "pLPbuvYf0i8u"
      },
      "execution_count": null,
      "outputs": []
    }
  ]
}