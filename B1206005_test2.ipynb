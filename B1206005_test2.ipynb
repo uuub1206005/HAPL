{
  "nbformat": 4,
  "nbformat_minor": 0,
  "metadata": {
    "colab": {
      "provenance": [],
      "toc_visible": true
    },
    "kernelspec": {
      "name": "python3",
      "display_name": "Python 3"
    },
    "language_info": {
      "name": "python"
    }
  },
  "cells": [
    {
      "cell_type": "code",
      "execution_count": null,
      "metadata": {
        "colab": {
          "base_uri": "https://localhost:8080/"
        },
        "id": "4Lr-h1_bhpco",
        "outputId": "90cbf023-1f2b-414a-f606-0f8cc0bf6628"
      },
      "outputs": [
        {
          "output_type": "stream",
          "name": "stdout",
          "text": [
            "Ans= 495\n"
          ]
        }
      ],
      "source": [
        "x = 2\n",
        "y = 1\n",
        "\n",
        "a = 2 * x + y\n",
        "b = 100 - y\n",
        "\n",
        "z = a * b\n",
        "\n",
        "print(\"Ans=\",z)"
      ]
    },
    {
      "cell_type": "code",
      "source": [
        "y = 4\n",
        "z = 100 / (2*y+1)\n",
        "\n",
        "print(\"Ans=\",z)"
      ],
      "metadata": {
        "colab": {
          "base_uri": "https://localhost:8080/"
        },
        "id": "oeWgO3f1nFk4",
        "outputId": "f5aa1d79-42c1-453b-91d8-722bd4e94265"
      },
      "execution_count": null,
      "outputs": [
        {
          "output_type": "stream",
          "name": "stdout",
          "text": [
            "Ans= 11.11111111111111\n"
          ]
        }
      ]
    },
    {
      "cell_type": "markdown",
      "source": [],
      "metadata": {
        "id": "WK4jyPxbkoXI"
      }
    },
    {
      "cell_type": "markdown",
      "source": [],
      "metadata": {
        "id": "zz5fiLW-yFp2"
      }
    }
  ]
}