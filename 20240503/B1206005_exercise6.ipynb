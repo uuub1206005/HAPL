{
  "nbformat": 4,
  "nbformat_minor": 0,
  "metadata": {
    "colab": {
      "provenance": []
    },
    "kernelspec": {
      "name": "python3",
      "display_name": "Python 3"
    },
    "language_info": {
      "name": "python"
    }
  },
  "cells": [
    {
      "cell_type": "code",
      "source": [
        "a=int(input(\"聖誕樹高度:\"))\n",
        "a=a*2+1\n",
        "for x in range(a):\n",
        "  if x%2==1:\n",
        "    b=int((a-x)/2)\n",
        "    for y in range(b):\n",
        "      print(\" \",end=\"\")\n",
        "    for z in range(x):\n",
        "      print(\"*\",end=\"\")\n",
        "    print(\"\")\n",
        "for c in range(5):\n",
        "  print((' '*int((a-3)/2)+'*'*3))"
      ],
      "metadata": {
        "colab": {
          "base_uri": "https://localhost:8080/"
        },
        "id": "YCvx2_yBD4GL",
        "outputId": "0258609d-2fed-4e31-8cb0-c9f5448bac65"
      },
      "execution_count": 96,
      "outputs": [
        {
          "output_type": "stream",
          "name": "stdout",
          "text": [
            "聖誕樹高度:9\n",
            "         *\n",
            "        ***\n",
            "       *****\n",
            "      *******\n",
            "     *********\n",
            "    ***********\n",
            "   *************\n",
            "  ***************\n",
            " *****************\n",
            "        ***\n",
            "        ***\n",
            "        ***\n",
            "        ***\n",
            "        ***\n"
          ]
        }
      ]
    },
    {
      "cell_type": "code",
      "source": [
        "try:\n",
        " def calculate(w,h):\n",
        "  h = float(input(\"身高(公分)=\"))\n",
        "  w = float(input(\"體重(公斤)=\"))\n",
        "  x=w/(h/100)**2\n",
        "  a=18.5\n",
        "  b=24\n",
        "  c=27\n",
        "  if  x<a:\n",
        "   result=\"體位:過輕\"\n",
        "  elif x==a or a<x<b:\n",
        "   result=\"體位:適中\"\n",
        "  elif x==b or b<x<c:\n",
        "   result=\"體位:過重\"\n",
        "  if  x==27 or x>c:\n",
        "   result=\"體位:肥胖\"\n",
        "  return x,result\n",
        " x,result=calculate(w,h)\n",
        " print(\"BMI;\",x)\n",
        " print(result)\n",
        "except:\n",
        " print(\"輸入內容錯誤\")"
      ],
      "metadata": {
        "colab": {
          "base_uri": "https://localhost:8080/"
        },
        "id": "AEkmvZRqFE0q",
        "outputId": "fb53beee-71c3-4d41-fcce-34fa79aa43f9"
      },
      "execution_count": 99,
      "outputs": [
        {
          "output_type": "stream",
          "name": "stdout",
          "text": [
            "身高(公分)=180\n",
            "體重(公斤)=86\n",
            "BMI; 26.54320987654321\n",
            "體位:過重\n"
          ]
        }
      ]
    }
  ]
}